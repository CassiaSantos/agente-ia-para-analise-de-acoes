{
 "cells": [
  {
   "cell_type": "code",
   "execution_count": null,
   "metadata": {},
   "outputs": [],
   "source": [
    "# INSTALAÇÃO DAS LIBS:\n",
    "!pip install yfinance\n",
    "!pip install crewai\n",
    "!pip install 'crewai [tools]'\n",
    "!pip install langchain-openai"
   ]
  },
  {
   "cell_type": "code",
   "execution_count": null,
   "metadata": {},
   "outputs": [],
   "source": [
    "# IMPORTAÇÃO DAS LIBS:\n",
    "import json\n",
    "import os\n",
    "from datetime import datetime\n",
    "\n",
    "import yfinance as yf\n",
    "from crewai import Tools, Agent, Task\n",
    "from langchain.tools import Tool\n",
    "from langchain_openai import ChatOpenAI"
   ]
  },
  {
   "cell_type": "code",
   "execution_count": null,
   "metadata": {},
   "outputs": [],
   "source": [
    "# CRIANDO YAHOO FINANCE TOOL \n",
    "def fetch_stock_price(ticket):\n",
    "    stock = yf.download(ticket, start=\"2023-08-23\", end=\"2024-08-23\")\n",
    "    return stock\n",
    "\n",
    "yahoo_finance_tool = Tools(\n",
    "    name: \"Yahoo Finance Tool\",\n",
    "    descriptioon: \"Fatches stocks prices for {ticket} from the last year about a especific company from Yahoo Finance API\",\n",
    "    func=lambda ticket: fetch_stock_price\n",
    ")"
   ]
  },
  {
   "cell_type": "code",
   "execution_count": null,
   "metadata": {},
   "outputs": [],
   "source": [
    "os.environ['OPENAI_API_KEY'] = \"\"\n",
    "llm = ChatOpenAI(model=\"gpt-3.5-turbo\")"
   ]
  },
  {
   "cell_type": "code",
   "execution_count": null,
   "metadata": {},
   "outputs": [],
   "source": [
    "response = yahoo_finance_tool.run(\"AAPL\")"
   ]
  }
 ],
 "metadata": {
  "language_info": {
   "name": "python"
  }
 },
 "nbformat": 4,
 "nbformat_minor": 2
}
